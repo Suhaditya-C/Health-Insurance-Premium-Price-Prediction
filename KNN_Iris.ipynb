{
 "cells": [
  {
   "cell_type": "markdown",
   "id": "f558bb1a-827c-4b96-8e5e-6ad781705986",
   "metadata": {},
   "source": [
    "# K Nearest Neighbours"
   ]
  },
  {
   "cell_type": "markdown",
   "id": "a6fcf7dc-5274-4032-8f50-651daf82e659",
   "metadata": {},
   "source": [
    "## Importing Dependencies"
   ]
  },
  {
   "cell_type": "code",
   "execution_count": 48,
   "id": "0df9c733-135d-420e-bf84-8d80cbeee9c1",
   "metadata": {},
   "outputs": [],
   "source": [
    "import pandas as pd\n",
    "import numpy as np\n",
    "from sklearn.model_selection import train_test_split\n",
    "import matplotlib.pyplot as plt\n"
   ]
  },
  {
   "cell_type": "code",
   "execution_count": 22,
   "id": "12ea48e2-a94d-4f83-94c6-a6db080adc58",
   "metadata": {},
   "outputs": [
    {
     "data": {
      "text/html": [
       "<div>\n",
       "<style scoped>\n",
       "    .dataframe tbody tr th:only-of-type {\n",
       "        vertical-align: middle;\n",
       "    }\n",
       "\n",
       "    .dataframe tbody tr th {\n",
       "        vertical-align: top;\n",
       "    }\n",
       "\n",
       "    .dataframe thead th {\n",
       "        text-align: right;\n",
       "    }\n",
       "</style>\n",
       "<table border=\"1\" class=\"dataframe\">\n",
       "  <thead>\n",
       "    <tr style=\"text-align: right;\">\n",
       "      <th></th>\n",
       "      <th>Id</th>\n",
       "      <th>SepalLengthCm</th>\n",
       "      <th>SepalWidthCm</th>\n",
       "      <th>PetalLengthCm</th>\n",
       "      <th>PetalWidthCm</th>\n",
       "      <th>Species</th>\n",
       "    </tr>\n",
       "  </thead>\n",
       "  <tbody>\n",
       "    <tr>\n",
       "      <th>28</th>\n",
       "      <td>29</td>\n",
       "      <td>5.2</td>\n",
       "      <td>3.4</td>\n",
       "      <td>1.4</td>\n",
       "      <td>0.2</td>\n",
       "      <td>Iris-setosa</td>\n",
       "    </tr>\n",
       "    <tr>\n",
       "      <th>101</th>\n",
       "      <td>102</td>\n",
       "      <td>5.8</td>\n",
       "      <td>2.7</td>\n",
       "      <td>5.1</td>\n",
       "      <td>1.9</td>\n",
       "      <td>Iris-virginica</td>\n",
       "    </tr>\n",
       "    <tr>\n",
       "      <th>32</th>\n",
       "      <td>33</td>\n",
       "      <td>5.2</td>\n",
       "      <td>4.1</td>\n",
       "      <td>1.5</td>\n",
       "      <td>0.1</td>\n",
       "      <td>Iris-setosa</td>\n",
       "    </tr>\n",
       "    <tr>\n",
       "      <th>113</th>\n",
       "      <td>114</td>\n",
       "      <td>5.7</td>\n",
       "      <td>2.5</td>\n",
       "      <td>5.0</td>\n",
       "      <td>2.0</td>\n",
       "      <td>Iris-virginica</td>\n",
       "    </tr>\n",
       "    <tr>\n",
       "      <th>54</th>\n",
       "      <td>55</td>\n",
       "      <td>6.5</td>\n",
       "      <td>2.8</td>\n",
       "      <td>4.6</td>\n",
       "      <td>1.5</td>\n",
       "      <td>Iris-versicolor</td>\n",
       "    </tr>\n",
       "  </tbody>\n",
       "</table>\n",
       "</div>"
      ],
      "text/plain": [
       "      Id  SepalLengthCm  SepalWidthCm  PetalLengthCm  PetalWidthCm  \\\n",
       "28    29            5.2           3.4            1.4           0.2   \n",
       "101  102            5.8           2.7            5.1           1.9   \n",
       "32    33            5.2           4.1            1.5           0.1   \n",
       "113  114            5.7           2.5            5.0           2.0   \n",
       "54    55            6.5           2.8            4.6           1.5   \n",
       "\n",
       "             Species  \n",
       "28       Iris-setosa  \n",
       "101   Iris-virginica  \n",
       "32       Iris-setosa  \n",
       "113   Iris-virginica  \n",
       "54   Iris-versicolor  "
      ]
     },
     "execution_count": 22,
     "metadata": {},
     "output_type": "execute_result"
    }
   ],
   "source": [
    "df=pd.read_csv('Iris.csv')\n",
    "df.head()\n",
    "df.sample(5)"
   ]
  },
  {
   "cell_type": "code",
   "execution_count": 23,
   "id": "7bf55722-015b-4130-9637-7d6d8872376e",
   "metadata": {},
   "outputs": [
    {
     "data": {
      "text/plain": [
       "Species\n",
       "Iris-setosa        50\n",
       "Iris-versicolor    50\n",
       "Iris-virginica     50\n",
       "Name: count, dtype: int64"
      ]
     },
     "execution_count": 23,
     "metadata": {},
     "output_type": "execute_result"
    }
   ],
   "source": [
    "df.value_counts('Species')"
   ]
  },
  {
   "cell_type": "markdown",
   "id": "a8404203-3cad-46e0-9575-7e5ded38e8e7",
   "metadata": {},
   "source": [
    "## Assign codes to different classes"
   ]
  },
  {
   "cell_type": "code",
   "execution_count": 24,
   "id": "ab5ed8cd-a3e1-4c1b-a749-4d877b279f28",
   "metadata": {},
   "outputs": [
    {
     "data": {
      "text/html": [
       "<div>\n",
       "<style scoped>\n",
       "    .dataframe tbody tr th:only-of-type {\n",
       "        vertical-align: middle;\n",
       "    }\n",
       "\n",
       "    .dataframe tbody tr th {\n",
       "        vertical-align: top;\n",
       "    }\n",
       "\n",
       "    .dataframe thead th {\n",
       "        text-align: right;\n",
       "    }\n",
       "</style>\n",
       "<table border=\"1\" class=\"dataframe\">\n",
       "  <thead>\n",
       "    <tr style=\"text-align: right;\">\n",
       "      <th></th>\n",
       "      <th>Id</th>\n",
       "      <th>SepalLengthCm</th>\n",
       "      <th>SepalWidthCm</th>\n",
       "      <th>PetalLengthCm</th>\n",
       "      <th>PetalWidthCm</th>\n",
       "      <th>Species</th>\n",
       "      <th>class</th>\n",
       "    </tr>\n",
       "  </thead>\n",
       "  <tbody>\n",
       "    <tr>\n",
       "      <th>0</th>\n",
       "      <td>1</td>\n",
       "      <td>5.1</td>\n",
       "      <td>3.5</td>\n",
       "      <td>1.4</td>\n",
       "      <td>0.2</td>\n",
       "      <td>Iris-setosa</td>\n",
       "      <td>1</td>\n",
       "    </tr>\n",
       "    <tr>\n",
       "      <th>1</th>\n",
       "      <td>2</td>\n",
       "      <td>4.9</td>\n",
       "      <td>3.0</td>\n",
       "      <td>1.4</td>\n",
       "      <td>0.2</td>\n",
       "      <td>Iris-setosa</td>\n",
       "      <td>1</td>\n",
       "    </tr>\n",
       "    <tr>\n",
       "      <th>2</th>\n",
       "      <td>3</td>\n",
       "      <td>4.7</td>\n",
       "      <td>3.2</td>\n",
       "      <td>1.3</td>\n",
       "      <td>0.2</td>\n",
       "      <td>Iris-setosa</td>\n",
       "      <td>1</td>\n",
       "    </tr>\n",
       "    <tr>\n",
       "      <th>3</th>\n",
       "      <td>4</td>\n",
       "      <td>4.6</td>\n",
       "      <td>3.1</td>\n",
       "      <td>1.5</td>\n",
       "      <td>0.2</td>\n",
       "      <td>Iris-setosa</td>\n",
       "      <td>1</td>\n",
       "    </tr>\n",
       "    <tr>\n",
       "      <th>4</th>\n",
       "      <td>5</td>\n",
       "      <td>5.0</td>\n",
       "      <td>3.6</td>\n",
       "      <td>1.4</td>\n",
       "      <td>0.2</td>\n",
       "      <td>Iris-setosa</td>\n",
       "      <td>1</td>\n",
       "    </tr>\n",
       "  </tbody>\n",
       "</table>\n",
       "</div>"
      ],
      "text/plain": [
       "   Id  SepalLengthCm  SepalWidthCm  PetalLengthCm  PetalWidthCm      Species  \\\n",
       "0   1            5.1           3.5            1.4           0.2  Iris-setosa   \n",
       "1   2            4.9           3.0            1.4           0.2  Iris-setosa   \n",
       "2   3            4.7           3.2            1.3           0.2  Iris-setosa   \n",
       "3   4            4.6           3.1            1.5           0.2  Iris-setosa   \n",
       "4   5            5.0           3.6            1.4           0.2  Iris-setosa   \n",
       "\n",
       "   class  \n",
       "0      1  \n",
       "1      1  \n",
       "2      1  \n",
       "3      1  \n",
       "4      1  "
      ]
     },
     "execution_count": 24,
     "metadata": {},
     "output_type": "execute_result"
    }
   ],
   "source": [
    "df['class'] = np.where(df['Species'] == 'Iris-setosa', 1, np.where(df['Species'] == 'Iris-versicolor', 2, 3))\n",
    "df.head()"
   ]
  },
  {
   "cell_type": "markdown",
   "id": "4c40b366-5c63-459b-85c3-fd99c40dcbab",
   "metadata": {},
   "source": [
    "## Separate Predictors and Response"
   ]
  },
  {
   "cell_type": "code",
   "execution_count": 25,
   "id": "fc6f4b62-d5b9-46ef-87d2-0432592ec8cf",
   "metadata": {},
   "outputs": [
    {
     "data": {
      "text/html": [
       "<div>\n",
       "<style scoped>\n",
       "    .dataframe tbody tr th:only-of-type {\n",
       "        vertical-align: middle;\n",
       "    }\n",
       "\n",
       "    .dataframe tbody tr th {\n",
       "        vertical-align: top;\n",
       "    }\n",
       "\n",
       "    .dataframe thead th {\n",
       "        text-align: right;\n",
       "    }\n",
       "</style>\n",
       "<table border=\"1\" class=\"dataframe\">\n",
       "  <thead>\n",
       "    <tr style=\"text-align: right;\">\n",
       "      <th></th>\n",
       "      <th>SepalLengthCm</th>\n",
       "      <th>SepalWidthCm</th>\n",
       "      <th>PetalLengthCm</th>\n",
       "      <th>PetalWidthCm</th>\n",
       "    </tr>\n",
       "  </thead>\n",
       "  <tbody>\n",
       "    <tr>\n",
       "      <th>0</th>\n",
       "      <td>5.1</td>\n",
       "      <td>3.5</td>\n",
       "      <td>1.4</td>\n",
       "      <td>0.2</td>\n",
       "    </tr>\n",
       "    <tr>\n",
       "      <th>1</th>\n",
       "      <td>4.9</td>\n",
       "      <td>3.0</td>\n",
       "      <td>1.4</td>\n",
       "      <td>0.2</td>\n",
       "    </tr>\n",
       "    <tr>\n",
       "      <th>2</th>\n",
       "      <td>4.7</td>\n",
       "      <td>3.2</td>\n",
       "      <td>1.3</td>\n",
       "      <td>0.2</td>\n",
       "    </tr>\n",
       "    <tr>\n",
       "      <th>3</th>\n",
       "      <td>4.6</td>\n",
       "      <td>3.1</td>\n",
       "      <td>1.5</td>\n",
       "      <td>0.2</td>\n",
       "    </tr>\n",
       "    <tr>\n",
       "      <th>4</th>\n",
       "      <td>5.0</td>\n",
       "      <td>3.6</td>\n",
       "      <td>1.4</td>\n",
       "      <td>0.2</td>\n",
       "    </tr>\n",
       "  </tbody>\n",
       "</table>\n",
       "</div>"
      ],
      "text/plain": [
       "   SepalLengthCm  SepalWidthCm  PetalLengthCm  PetalWidthCm\n",
       "0            5.1           3.5            1.4           0.2\n",
       "1            4.9           3.0            1.4           0.2\n",
       "2            4.7           3.2            1.3           0.2\n",
       "3            4.6           3.1            1.5           0.2\n",
       "4            5.0           3.6            1.4           0.2"
      ]
     },
     "execution_count": 25,
     "metadata": {},
     "output_type": "execute_result"
    }
   ],
   "source": [
    "X=df.drop(columns=['Id','Species','class'])\n",
    "Y=df['class']\n",
    "X.head()"
   ]
  },
  {
   "cell_type": "markdown",
   "id": "0238f774-4105-4e4f-a31f-757ef0885f68",
   "metadata": {},
   "source": [
    "## Defining KNN function"
   ]
  },
  {
   "cell_type": "code",
   "execution_count": 26,
   "id": "55d87620-627e-4349-8cee-ea48a1de8d48",
   "metadata": {},
   "outputs": [],
   "source": [
    "#defining euclidean distance first\n",
    "\n",
    "def e_dist(a,b):\n",
    "    return np.sqrt(np.sum(np.square(a-b)))"
   ]
  },
  {
   "cell_type": "code",
   "execution_count": 27,
   "id": "ddc4be90-94de-4995-b663-5f4aebcc495e",
   "metadata": {},
   "outputs": [],
   "source": [
    "def KNN(X_train,Y_train,x_test,k): # KNN for each test value\n",
    "    distances=[]\n",
    "    labels=[]\n",
    "    for x in X_train:\n",
    "        distances.append(e_dist(x,x_test)) #find euclidean distance between each test value and all train values\n",
    "    #get the first k indices of the sorted array in increasing order\n",
    "    k_indices=np.argsort(distances)[:k]\n",
    "    # get the labels index wise\n",
    "    for index in k_indices:\n",
    "        labels.append(Y_train[index])\n",
    "    # Majority Voting\n",
    "    return max(set(labels),key=labels.count) #Calls .count() only on unique labels, making it faster"
   ]
  },
  {
   "cell_type": "markdown",
   "id": "a12d98d0-3712-4f6b-8f98-5f4d1d056ebc",
   "metadata": {},
   "source": [
    "## Splitting Train test data"
   ]
  },
  {
   "cell_type": "markdown",
   "id": "35328348-2df5-420b-b584-1b85d6641d47",
   "metadata": {},
   "source": [
    "### 80-20 Split"
   ]
  },
  {
   "cell_type": "code",
   "execution_count": 28,
   "id": "fbe543e8-0fbf-499c-85c2-7220ea72d7f3",
   "metadata": {},
   "outputs": [
    {
     "data": {
      "text/plain": [
       "22    1\n",
       "15    1\n",
       "65    2\n",
       "11    1\n",
       "42    1\n",
       "Name: class, dtype: int32"
      ]
     },
     "execution_count": 28,
     "metadata": {},
     "output_type": "execute_result"
    }
   ],
   "source": [
    "#80% train, 20%test\n",
    "X_train, X_test, Y_train, Y_test = train_test_split(X, Y, test_size=0.2,random_state=42)\n",
    "Y_train.head()"
   ]
  },
  {
   "cell_type": "code",
   "execution_count": 29,
   "id": "767c4772-7431-4e51-8adc-17b561f42e2e",
   "metadata": {},
   "outputs": [
    {
     "data": {
      "text/plain": [
       "array([2, 1, 3, 2, 2, 1, 2, 3, 2, 2, 3, 1, 1, 1, 1, 2, 3, 2, 2, 3, 1, 3,\n",
       "       1, 3, 3, 3, 3, 3, 1, 1])"
      ]
     },
     "execution_count": 29,
     "metadata": {},
     "output_type": "execute_result"
    }
   ],
   "source": [
    "y_hat=[]\n",
    "for x_test in X_test.to_numpy():\n",
    "    y_hat.append(KNN(X_train.to_numpy(),Y_train.to_numpy(),x_test,k=5))\n",
    "y_hat=np.array(y_hat)\n",
    "y_hat"
   ]
  },
  {
   "cell_type": "markdown",
   "id": "2270dfbb-cbbd-425f-afb3-493d2c28261b",
   "metadata": {},
   "source": [
    "#### Calculating test accuracy"
   ]
  },
  {
   "cell_type": "code",
   "execution_count": 30,
   "id": "8bd3dc0d-72c8-43d6-90c2-145d995ca3ad",
   "metadata": {
    "scrolled": true
   },
   "outputs": [
    {
     "data": {
      "text/plain": [
       "100.0"
      ]
     },
     "execution_count": 30,
     "metadata": {},
     "output_type": "execute_result"
    }
   ],
   "source": [
    "accuracy=np.mean(y_hat==Y_test.to_numpy())\n",
    "accuracy*100"
   ]
  },
  {
   "cell_type": "markdown",
   "id": "605c1a66-0dd3-4628-831f-207ff7b3fba3",
   "metadata": {},
   "source": [
    "### 70-30 Split"
   ]
  },
  {
   "cell_type": "code",
   "execution_count": 31,
   "id": "1e2dd4b7-d5fe-49d8-b67b-dbfc71947d82",
   "metadata": {},
   "outputs": [],
   "source": [
    "#70% train, 30%test\n",
    "X_train, X_test, Y_train, Y_test = train_test_split(X, Y, test_size=0.3, random_state=42)"
   ]
  },
  {
   "cell_type": "code",
   "execution_count": 33,
   "id": "99f2a77c",
   "metadata": {},
   "outputs": [
    {
     "data": {
      "text/plain": [
       "array([2, 1, 3, 2, 2, 1, 2, 3, 2, 2, 3, 1, 1, 1, 1, 2, 3, 2, 2, 3, 1, 3,\n",
       "       1, 3, 3, 3, 3, 3, 1, 1, 1, 1, 2, 1, 1, 3, 2, 1, 1, 1, 3, 2, 2, 1,\n",
       "       1])"
      ]
     },
     "execution_count": 33,
     "metadata": {},
     "output_type": "execute_result"
    }
   ],
   "source": [
    "y_hat=[]\n",
    "for x_test in X_test.to_numpy():\n",
    "    y_hat.append(KNN(X_train.to_numpy(),Y_train.to_numpy(),x_test,k=5))\n",
    "y_hat=np.array(y_hat)\n",
    "y_hat"
   ]
  },
  {
   "cell_type": "markdown",
   "id": "71a73edf",
   "metadata": {},
   "source": [
    "#### Calculating test accuracy"
   ]
  },
  {
   "cell_type": "code",
   "execution_count": 34,
   "id": "71a5beaf",
   "metadata": {},
   "outputs": [
    {
     "data": {
      "text/plain": [
       "100.0"
      ]
     },
     "execution_count": 34,
     "metadata": {},
     "output_type": "execute_result"
    }
   ],
   "source": [
    "accuracy=np.mean(y_hat==Y_test.to_numpy())\n",
    "accuracy*100"
   ]
  },
  {
   "cell_type": "markdown",
   "id": "1ed340aa-885d-4a8e-8885-3678c974158b",
   "metadata": {},
   "source": [
    "### 60-40 Split"
   ]
  },
  {
   "cell_type": "code",
   "execution_count": 35,
   "id": "e51f14cb-73d2-4781-8027-c8f87efc3a38",
   "metadata": {},
   "outputs": [],
   "source": [
    "#60% train, 40%test\n",
    "X_train, X_test, Y_train, Y_test = train_test_split(X, Y, test_size=0.4, random_state=42)"
   ]
  },
  {
   "cell_type": "code",
   "execution_count": 36,
   "id": "9777ee5b",
   "metadata": {},
   "outputs": [
    {
     "data": {
      "text/plain": [
       "array([2, 1, 3, 2, 2, 1, 2, 3, 2, 2, 3, 1, 1, 1, 1, 2, 3, 2, 2, 3, 1, 3,\n",
       "       1, 3, 3, 3, 3, 3, 1, 1, 1, 1, 2, 1, 1, 3, 2, 1, 1, 1, 3, 2, 2, 1,\n",
       "       1, 2, 2, 3, 2, 3, 2, 3, 2, 1, 3, 2, 1, 1, 1, 2])"
      ]
     },
     "execution_count": 36,
     "metadata": {},
     "output_type": "execute_result"
    }
   ],
   "source": [
    "y_hat=[]\n",
    "for x_test in X_test.to_numpy():\n",
    "    y_hat.append(KNN(X_train.to_numpy(),Y_train.to_numpy(),x_test,k=5))\n",
    "y_hat=np.array(y_hat)\n",
    "y_hat"
   ]
  },
  {
   "cell_type": "markdown",
   "id": "ace511bb",
   "metadata": {},
   "source": [
    "#### Calculating test accuracy"
   ]
  },
  {
   "cell_type": "code",
   "execution_count": 37,
   "id": "cb0d63d3",
   "metadata": {},
   "outputs": [
    {
     "data": {
      "text/plain": [
       "98.33333333333333"
      ]
     },
     "execution_count": 37,
     "metadata": {},
     "output_type": "execute_result"
    }
   ],
   "source": [
    "accuracy=np.mean(y_hat==Y_test.to_numpy())\n",
    "accuracy*100"
   ]
  },
  {
   "cell_type": "markdown",
   "id": "4b23dc2a-bfa1-482b-8e8b-718b20cbd86b",
   "metadata": {},
   "source": [
    "### 50-50 Split"
   ]
  },
  {
   "cell_type": "code",
   "execution_count": 38,
   "id": "a68044fc-1682-4890-afa0-d72d58e60224",
   "metadata": {},
   "outputs": [],
   "source": [
    "#50% train, 50%test\n",
    "X_train, X_test, Y_train, Y_test = train_test_split(X, Y, test_size=0.5, random_state=42)"
   ]
  },
  {
   "cell_type": "code",
   "execution_count": 39,
   "id": "18e960a9",
   "metadata": {},
   "outputs": [
    {
     "data": {
      "text/plain": [
       "array([2, 1, 3, 2, 2, 1, 2, 3, 2, 2, 3, 1, 1, 1, 1, 2, 3, 2, 2, 3, 1, 2,\n",
       "       1, 3, 3, 3, 3, 3, 1, 1, 1, 1, 2, 1, 1, 3, 2, 1, 1, 1, 3, 2, 2, 1,\n",
       "       1, 2, 2, 3, 2, 3, 2, 3, 2, 1, 3, 2, 1, 1, 1, 2, 2, 1, 1, 1, 2, 1,\n",
       "       2, 3, 1, 2, 3, 1, 2, 3, 2])"
      ]
     },
     "execution_count": 39,
     "metadata": {},
     "output_type": "execute_result"
    }
   ],
   "source": [
    "y_hat=[]\n",
    "for x_test in X_test.to_numpy():\n",
    "    y_hat.append(KNN(X_train.to_numpy(),Y_train.to_numpy(),x_test,k=5))\n",
    "y_hat=np.array(y_hat)\n",
    "y_hat"
   ]
  },
  {
   "cell_type": "markdown",
   "id": "af2a225f",
   "metadata": {},
   "source": [
    "#### Calculating test accuracy"
   ]
  },
  {
   "cell_type": "code",
   "execution_count": 40,
   "id": "cddefde9",
   "metadata": {},
   "outputs": [
    {
     "data": {
      "text/plain": [
       "94.66666666666667"
      ]
     },
     "execution_count": 40,
     "metadata": {},
     "output_type": "execute_result"
    }
   ],
   "source": [
    "accuracy=np.mean(y_hat==Y_test.to_numpy())\n",
    "accuracy*100"
   ]
  },
  {
   "cell_type": "markdown",
   "id": "e0f6a593-3726-4523-a475-f2d11f3c19d4",
   "metadata": {},
   "source": [
    "### K vs Accuracy (for 80-20 Split)"
   ]
  },
  {
   "cell_type": "code",
   "execution_count": 49,
   "id": "8ab8a5c3-f9ae-4f66-be58-3fa1f9dde442",
   "metadata": {},
   "outputs": [
    {
     "data": {
      "image/png": "[encoded data removed]",
      "text/plain": [
       "<Figure size 1000x500 with 1 Axes>"
      ]
     },
     "metadata": {},
     "output_type": "display_data"
    }
   ],
   "source": [
    "#80% train, 20%test\n",
    "X_train, X_test, Y_train, Y_test = train_test_split(X, Y, test_size=0.2,random_state=42)\n",
    "\n",
    "accuracy=[]\n",
    "k_values= range(1,100)\n",
    "for k in k_values: \n",
    "    y_hat=[]\n",
    "    for x_test in X_test.to_numpy():\n",
    "        y_hat.append(KNN(X_train.to_numpy(),Y_train.to_numpy(),x_test,k))\n",
    "    accuracy.append(np.mean(np.array(y_hat)==Y_test.to_numpy())*100)\n",
    "\n",
    "# Plot k vs Accuracy\n",
    "title = \"KNN: Number of Neighbors vs. Accuracy\"\n",
    "plt.figure(figsize=(10, 5))\n",
    "plt.plot(k_values, accuracy, marker='o', linestyle='-', color='b')\n",
    "plt.xlabel(\"Number of Neighbors (k)\")\n",
    "plt.ylabel(\"Accuracy\")\n",
    "plt.title(title)\n",
    "plt.grid()\n",
    "plt.show()\n"
   ]
  },
  {
   "cell_type": "code",
   "execution_count": null,
   "id": "90853992-4117-4517-9f6b-09f75be944ac",
   "metadata": {},
   "outputs": [],
   "source": []
  }
 ],
 "metadata": {
  "kernelspec": {
   "display_name": "Python 3 (ipykernel)",
   "language": "python",
   "name": "python3"
  },
  "language_info": {
   "codemirror_mode": {
    "name": "ipython",
    "version": 3
   },
   "file_extension": ".py",
   "mimetype": "text/x-python",
   "name": "python",
   "nbconvert_exporter": "python",
   "pygments_lexer": "ipython3",
   "version": "3.12.4"
  }
 },
 "nbformat": 4,
 "nbformat_minor": 5
}
