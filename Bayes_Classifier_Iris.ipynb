{
 "cells": [
  {
   "cell_type": "markdown",
   "id": "f558bb1a-827c-4b96-8e5e-6ad781705986",
   "metadata": {},
   "source": [
    "# Bayes Classifier"
   ]
  },
  {
   "cell_type": "markdown",
   "id": "a6fcf7dc-5274-4032-8f50-651daf82e659",
   "metadata": {},
   "source": [
    "## Importing Dependencies"
   ]
  },
  {
   "cell_type": "code",
   "execution_count": 2,
   "id": "0df9c733-135d-420e-bf84-8d80cbeee9c1",
   "metadata": {},
   "outputs": [],
   "source": [
    "import pandas as pd\n",
    "import numpy as np\n",
    "from sklearn.model_selection import train_test_split"
   ]
  },
  {
   "cell_type": "code",
   "execution_count": 4,
   "id": "12ea48e2-a94d-4f83-94c6-a6db080adc58",
   "metadata": {},
   "outputs": [
    {
     "data": {
      "text/html": [
       "<div>\n",
       "<style scoped>\n",
       "    .dataframe tbody tr th:only-of-type {\n",
       "        vertical-align: middle;\n",
       "    }\n",
       "\n",
       "    .dataframe tbody tr th {\n",
       "        vertical-align: top;\n",
       "    }\n",
       "\n",
       "    .dataframe thead th {\n",
       "        text-align: right;\n",
       "    }\n",
       "</style>\n",
       "<table border=\"1\" class=\"dataframe\">\n",
       "  <thead>\n",
       "    <tr style=\"text-align: right;\">\n",
       "      <th></th>\n",
       "      <th>Id</th>\n",
       "      <th>SepalLengthCm</th>\n",
       "      <th>SepalWidthCm</th>\n",
       "      <th>PetalLengthCm</th>\n",
       "      <th>PetalWidthCm</th>\n",
       "      <th>Species</th>\n",
       "    </tr>\n",
       "  </thead>\n",
       "  <tbody>\n",
       "    <tr>\n",
       "      <th>141</th>\n",
       "      <td>142</td>\n",
       "      <td>6.9</td>\n",
       "      <td>3.1</td>\n",
       "      <td>5.1</td>\n",
       "      <td>2.3</td>\n",
       "      <td>Iris-virginica</td>\n",
       "    </tr>\n",
       "    <tr>\n",
       "      <th>67</th>\n",
       "      <td>68</td>\n",
       "      <td>5.8</td>\n",
       "      <td>2.7</td>\n",
       "      <td>4.1</td>\n",
       "      <td>1.0</td>\n",
       "      <td>Iris-versicolor</td>\n",
       "    </tr>\n",
       "    <tr>\n",
       "      <th>5</th>\n",
       "      <td>6</td>\n",
       "      <td>5.4</td>\n",
       "      <td>3.9</td>\n",
       "      <td>1.7</td>\n",
       "      <td>0.4</td>\n",
       "      <td>Iris-setosa</td>\n",
       "    </tr>\n",
       "    <tr>\n",
       "      <th>85</th>\n",
       "      <td>86</td>\n",
       "      <td>6.0</td>\n",
       "      <td>3.4</td>\n",
       "      <td>4.5</td>\n",
       "      <td>1.6</td>\n",
       "      <td>Iris-versicolor</td>\n",
       "    </tr>\n",
       "    <tr>\n",
       "      <th>34</th>\n",
       "      <td>35</td>\n",
       "      <td>4.9</td>\n",
       "      <td>3.1</td>\n",
       "      <td>1.5</td>\n",
       "      <td>0.1</td>\n",
       "      <td>Iris-setosa</td>\n",
       "    </tr>\n",
       "  </tbody>\n",
       "</table>\n",
       "</div>"
      ],
      "text/plain": [
       "      Id  SepalLengthCm  SepalWidthCm  PetalLengthCm  PetalWidthCm  \\\n",
       "141  142            6.9           3.1            5.1           2.3   \n",
       "67    68            5.8           2.7            4.1           1.0   \n",
       "5      6            5.4           3.9            1.7           0.4   \n",
       "85    86            6.0           3.4            4.5           1.6   \n",
       "34    35            4.9           3.1            1.5           0.1   \n",
       "\n",
       "             Species  \n",
       "141   Iris-virginica  \n",
       "67   Iris-versicolor  \n",
       "5        Iris-setosa  \n",
       "85   Iris-versicolor  \n",
       "34       Iris-setosa  "
      ]
     },
     "execution_count": 4,
     "metadata": {},
     "output_type": "execute_result"
    }
   ],
   "source": [
    "df=pd.read_csv('Iris.csv')\n",
    "df.head()\n",
    "df.sample(5)"
   ]
  },
  {
   "cell_type": "code",
   "execution_count": 5,
   "id": "7bf55722-015b-4130-9637-7d6d8872376e",
   "metadata": {},
   "outputs": [
    {
     "data": {
      "text/plain": [
       "Species\n",
       "Iris-setosa        50\n",
       "Iris-versicolor    50\n",
       "Iris-virginica     50\n",
       "Name: count, dtype: int64"
      ]
     },
     "execution_count": 5,
     "metadata": {},
     "output_type": "execute_result"
    }
   ],
   "source": [
    "df.value_counts('Species')"
   ]
  },
  {
   "cell_type": "markdown",
   "id": "a8404203-3cad-46e0-9575-7e5ded38e8e7",
   "metadata": {},
   "source": [
    "## Assign codes to different classes"
   ]
  },
  {
   "cell_type": "code",
   "execution_count": 6,
   "id": "ab5ed8cd-a3e1-4c1b-a749-4d877b279f28",
   "metadata": {},
   "outputs": [
    {
     "data": {
      "text/html": [
       "<div>\n",
       "<style scoped>\n",
       "    .dataframe tbody tr th:only-of-type {\n",
       "        vertical-align: middle;\n",
       "    }\n",
       "\n",
       "    .dataframe tbody tr th {\n",
       "        vertical-align: top;\n",
       "    }\n",
       "\n",
       "    .dataframe thead th {\n",
       "        text-align: right;\n",
       "    }\n",
       "</style>\n",
       "<table border=\"1\" class=\"dataframe\">\n",
       "  <thead>\n",
       "    <tr style=\"text-align: right;\">\n",
       "      <th></th>\n",
       "      <th>Id</th>\n",
       "      <th>SepalLengthCm</th>\n",
       "      <th>SepalWidthCm</th>\n",
       "      <th>PetalLengthCm</th>\n",
       "      <th>PetalWidthCm</th>\n",
       "      <th>Species</th>\n",
       "      <th>class</th>\n",
       "    </tr>\n",
       "  </thead>\n",
       "  <tbody>\n",
       "    <tr>\n",
       "      <th>0</th>\n",
       "      <td>1</td>\n",
       "      <td>5.1</td>\n",
       "      <td>3.5</td>\n",
       "      <td>1.4</td>\n",
       "      <td>0.2</td>\n",
       "      <td>Iris-setosa</td>\n",
       "      <td>1</td>\n",
       "    </tr>\n",
       "    <tr>\n",
       "      <th>1</th>\n",
       "      <td>2</td>\n",
       "      <td>4.9</td>\n",
       "      <td>3.0</td>\n",
       "      <td>1.4</td>\n",
       "      <td>0.2</td>\n",
       "      <td>Iris-setosa</td>\n",
       "      <td>1</td>\n",
       "    </tr>\n",
       "    <tr>\n",
       "      <th>2</th>\n",
       "      <td>3</td>\n",
       "      <td>4.7</td>\n",
       "      <td>3.2</td>\n",
       "      <td>1.3</td>\n",
       "      <td>0.2</td>\n",
       "      <td>Iris-setosa</td>\n",
       "      <td>1</td>\n",
       "    </tr>\n",
       "    <tr>\n",
       "      <th>3</th>\n",
       "      <td>4</td>\n",
       "      <td>4.6</td>\n",
       "      <td>3.1</td>\n",
       "      <td>1.5</td>\n",
       "      <td>0.2</td>\n",
       "      <td>Iris-setosa</td>\n",
       "      <td>1</td>\n",
       "    </tr>\n",
       "    <tr>\n",
       "      <th>4</th>\n",
       "      <td>5</td>\n",
       "      <td>5.0</td>\n",
       "      <td>3.6</td>\n",
       "      <td>1.4</td>\n",
       "      <td>0.2</td>\n",
       "      <td>Iris-setosa</td>\n",
       "      <td>1</td>\n",
       "    </tr>\n",
       "  </tbody>\n",
       "</table>\n",
       "</div>"
      ],
      "text/plain": [
       "   Id  SepalLengthCm  SepalWidthCm  PetalLengthCm  PetalWidthCm      Species  \\\n",
       "0   1            5.1           3.5            1.4           0.2  Iris-setosa   \n",
       "1   2            4.9           3.0            1.4           0.2  Iris-setosa   \n",
       "2   3            4.7           3.2            1.3           0.2  Iris-setosa   \n",
       "3   4            4.6           3.1            1.5           0.2  Iris-setosa   \n",
       "4   5            5.0           3.6            1.4           0.2  Iris-setosa   \n",
       "\n",
       "   class  \n",
       "0      1  \n",
       "1      1  \n",
       "2      1  \n",
       "3      1  \n",
       "4      1  "
      ]
     },
     "execution_count": 6,
     "metadata": {},
     "output_type": "execute_result"
    }
   ],
   "source": [
    "df['class'] = np.where(df['Species'] == 'Iris-setosa', 1, np.where(df['Species'] == 'Iris-versicolor', 2, 3))\n",
    "df.head()"
   ]
  },
  {
   "cell_type": "markdown",
   "id": "5a005836-6726-4288-928d-d3e121e51c57",
   "metadata": {},
   "source": [
    "## Multivariate Normal Distribution Function"
   ]
  },
  {
   "cell_type": "code",
   "execution_count": 7,
   "id": "0a752fe1-31e8-4d10-8eaa-d2dc7af36eb1",
   "metadata": {},
   "outputs": [],
   "source": [
    "def mvnorm(x,mean,cov):\n",
    "    # no. of predictors\n",
    "    p=X.shape[1]\n",
    "    #Mahalanobis Distance-D2\n",
    "    inv_cov = np.linalg.inv(cov)\n",
    "    D2 = (x - mean)@ inv_cov @ (x - mean).T\n",
    "    fx = 1 / (((2 * np.pi)**(p / 2)) * (np.linalg.det(cov)**0.5))*np.exp(-0.5*D2)\n",
    "    return fx"
   ]
  },
  {
   "cell_type": "markdown",
   "id": "4c40b366-5c63-459b-85c3-fd99c40dcbab",
   "metadata": {},
   "source": [
    "## Separate Predictors and Response"
   ]
  },
  {
   "cell_type": "code",
   "execution_count": 8,
   "id": "fc6f4b62-d5b9-46ef-87d2-0432592ec8cf",
   "metadata": {},
   "outputs": [
    {
     "data": {
      "text/html": [
       "<div>\n",
       "<style scoped>\n",
       "    .dataframe tbody tr th:only-of-type {\n",
       "        vertical-align: middle;\n",
       "    }\n",
       "\n",
       "    .dataframe tbody tr th {\n",
       "        vertical-align: top;\n",
       "    }\n",
       "\n",
       "    .dataframe thead th {\n",
       "        text-align: right;\n",
       "    }\n",
       "</style>\n",
       "<table border=\"1\" class=\"dataframe\">\n",
       "  <thead>\n",
       "    <tr style=\"text-align: right;\">\n",
       "      <th></th>\n",
       "      <th>SepalLengthCm</th>\n",
       "      <th>SepalWidthCm</th>\n",
       "      <th>PetalLengthCm</th>\n",
       "      <th>PetalWidthCm</th>\n",
       "    </tr>\n",
       "  </thead>\n",
       "  <tbody>\n",
       "    <tr>\n",
       "      <th>0</th>\n",
       "      <td>5.1</td>\n",
       "      <td>3.5</td>\n",
       "      <td>1.4</td>\n",
       "      <td>0.2</td>\n",
       "    </tr>\n",
       "    <tr>\n",
       "      <th>1</th>\n",
       "      <td>4.9</td>\n",
       "      <td>3.0</td>\n",
       "      <td>1.4</td>\n",
       "      <td>0.2</td>\n",
       "    </tr>\n",
       "    <tr>\n",
       "      <th>2</th>\n",
       "      <td>4.7</td>\n",
       "      <td>3.2</td>\n",
       "      <td>1.3</td>\n",
       "      <td>0.2</td>\n",
       "    </tr>\n",
       "    <tr>\n",
       "      <th>3</th>\n",
       "      <td>4.6</td>\n",
       "      <td>3.1</td>\n",
       "      <td>1.5</td>\n",
       "      <td>0.2</td>\n",
       "    </tr>\n",
       "    <tr>\n",
       "      <th>4</th>\n",
       "      <td>5.0</td>\n",
       "      <td>3.6</td>\n",
       "      <td>1.4</td>\n",
       "      <td>0.2</td>\n",
       "    </tr>\n",
       "  </tbody>\n",
       "</table>\n",
       "</div>"
      ],
      "text/plain": [
       "   SepalLengthCm  SepalWidthCm  PetalLengthCm  PetalWidthCm\n",
       "0            5.1           3.5            1.4           0.2\n",
       "1            4.9           3.0            1.4           0.2\n",
       "2            4.7           3.2            1.3           0.2\n",
       "3            4.6           3.1            1.5           0.2\n",
       "4            5.0           3.6            1.4           0.2"
      ]
     },
     "execution_count": 8,
     "metadata": {},
     "output_type": "execute_result"
    }
   ],
   "source": [
    "X=df.drop(columns=['Id','Species','class'])\n",
    "Y=df['class']\n",
    "X.head()"
   ]
  },
  {
   "cell_type": "markdown",
   "id": "e8f05af7-155a-400c-9331-5b7f516f5c79",
   "metadata": {},
   "source": [
    "## Calculate Distribution Parameters-- Mean Vectors and Covariance Matrix"
   ]
  },
  {
   "cell_type": "code",
   "execution_count": 12,
   "id": "481d0b8e-7769-4315-8235-fe2179d3ca2c",
   "metadata": {},
   "outputs": [
    {
     "data": {
      "text/plain": [
       "array([[0.40434286, 0.09376327, 0.3032898 , 0.04909388],\n",
       "       [0.09376327, 0.10400408, 0.07137959, 0.04762857],\n",
       "       [0.3032898 , 0.07137959, 0.30458776, 0.04882449],\n",
       "       [0.04909388, 0.04762857, 0.04882449, 0.07543265]])"
      ]
     },
     "execution_count": 12,
     "metadata": {},
     "output_type": "execute_result"
    }
   ],
   "source": [
    "#Calculate Covariance Matrix\n",
    "cov1=X[Y==1].cov().to_numpy()\n",
    "cov2=X[Y==2].cov().to_numpy()\n",
    "cov3=X[Y==3].cov().to_numpy()\n",
    "cov3"
   ]
  },
  {
   "cell_type": "code",
   "execution_count": 13,
   "id": "81350cea-7e25-4b53-a9a0-f0900ccccfc8",
   "metadata": {},
   "outputs": [
    {
     "data": {
      "text/html": [
       "<div>\n",
       "<style scoped>\n",
       "    .dataframe tbody tr th:only-of-type {\n",
       "        vertical-align: middle;\n",
       "    }\n",
       "\n",
       "    .dataframe tbody tr th {\n",
       "        vertical-align: top;\n",
       "    }\n",
       "\n",
       "    .dataframe thead th {\n",
       "        text-align: right;\n",
       "    }\n",
       "</style>\n",
       "<table border=\"1\" class=\"dataframe\">\n",
       "  <thead>\n",
       "    <tr style=\"text-align: right;\">\n",
       "      <th></th>\n",
       "      <th>SepalLengthCm</th>\n",
       "      <th>SepalWidthCm</th>\n",
       "      <th>PetalLengthCm</th>\n",
       "      <th>PetalWidthCm</th>\n",
       "    </tr>\n",
       "    <tr>\n",
       "      <th>class</th>\n",
       "      <th></th>\n",
       "      <th></th>\n",
       "      <th></th>\n",
       "      <th></th>\n",
       "    </tr>\n",
       "  </thead>\n",
       "  <tbody>\n",
       "    <tr>\n",
       "      <th>1</th>\n",
       "      <td>5.006</td>\n",
       "      <td>3.418</td>\n",
       "      <td>1.464</td>\n",
       "      <td>0.244</td>\n",
       "    </tr>\n",
       "    <tr>\n",
       "      <th>2</th>\n",
       "      <td>5.936</td>\n",
       "      <td>2.770</td>\n",
       "      <td>4.260</td>\n",
       "      <td>1.326</td>\n",
       "    </tr>\n",
       "    <tr>\n",
       "      <th>3</th>\n",
       "      <td>6.588</td>\n",
       "      <td>2.974</td>\n",
       "      <td>5.552</td>\n",
       "      <td>2.026</td>\n",
       "    </tr>\n",
       "  </tbody>\n",
       "</table>\n",
       "</div>"
      ],
      "text/plain": [
       "       SepalLengthCm  SepalWidthCm  PetalLengthCm  PetalWidthCm\n",
       "class                                                          \n",
       "1              5.006         3.418          1.464         0.244\n",
       "2              5.936         2.770          4.260         1.326\n",
       "3              6.588         2.974          5.552         2.026"
      ]
     },
     "execution_count": 13,
     "metadata": {},
     "output_type": "execute_result"
    }
   ],
   "source": [
    "#Calculating class wise Mean Vectors\n",
    "mean_vectors = df.groupby('class')[['SepalLengthCm', 'SepalWidthCm', 'PetalLengthCm', 'PetalWidthCm']].mean() #Class wise mean vectors\n",
    "mean_vectors"
   ]
  },
  {
   "cell_type": "code",
   "execution_count": 14,
   "id": "9b4b75a6-26a0-48a7-b053-96c89059205c",
   "metadata": {},
   "outputs": [
    {
     "data": {
      "text/plain": [
       "array([5.006, 3.418, 1.464, 0.244])"
      ]
     },
     "execution_count": 14,
     "metadata": {},
     "output_type": "execute_result"
    }
   ],
   "source": [
    "mv_1 = mean_vectors.loc[1].to_numpy()  # Mean vector for class 1\n",
    "mv_2 = mean_vectors.loc[2].to_numpy()  # Mean vector for class 2\n",
    "mv_3 = mean_vectors.loc[3].to_numpy()  # Mean vector for class 3\n",
    "mv_1 #view mean vector for class 1"
   ]
  },
  {
   "cell_type": "code",
   "execution_count": 15,
   "id": "45cac893-821f-4791-911e-b23d76299f3f",
   "metadata": {},
   "outputs": [],
   "source": [
    "x=X.iloc[0].to_numpy()"
   ]
  },
  {
   "cell_type": "code",
   "execution_count": 16,
   "id": "55b016f7-8eb7-49d0-aba3-f94ac2f1dedb",
   "metadata": {},
   "outputs": [
    {
     "data": {
      "text/plain": [
       "13.725594445123013"
      ]
     },
     "execution_count": 16,
     "metadata": {},
     "output_type": "execute_result"
    }
   ],
   "source": [
    "#Checking invocation of MVNorm function\n",
    "mvnorm(x,mv_1,cov1)"
   ]
  },
  {
   "cell_type": "markdown",
   "id": "fcc04de6-1f0b-464d-bfb0-adea6a100ae6",
   "metadata": {},
   "source": [
    "## Calculating apriori probabilities for Bayesian Classifier"
   ]
  },
  {
   "cell_type": "code",
   "execution_count": 17,
   "id": "5de302e3-0943-445d-a3a1-f770c432c97b",
   "metadata": {},
   "outputs": [],
   "source": [
    "p1=df[df['class']==1].shape[0]/df.shape[0]\n",
    "p2=df[df['class']==2].shape[0]/df.shape[0]\n",
    "p3=df[df['class']==3].shape[0]/df.shape[0]"
   ]
  },
  {
   "cell_type": "code",
   "execution_count": 18,
   "id": "3b595b48-882a-4043-8b0b-72e6cae7461b",
   "metadata": {},
   "outputs": [
    {
     "data": {
      "text/plain": [
       "0.3333333333333333"
      ]
     },
     "execution_count": 18,
     "metadata": {},
     "output_type": "execute_result"
    }
   ],
   "source": [
    "p3"
   ]
  },
  {
   "cell_type": "markdown",
   "id": "b620813e-f30d-41c4-9c5f-db29c5e4d09b",
   "metadata": {},
   "source": [
    "## Using entire dataset for training"
   ]
  },
  {
   "cell_type": "code",
   "execution_count": 19,
   "id": "50bb8700-6fda-4381-956b-fd1abedb5a53",
   "metadata": {},
   "outputs": [
    {
     "data": {
      "text/plain": [
       "array([1., 1., 1., 1., 1., 1., 1., 1., 1., 1., 1., 1., 1., 1., 1., 1., 1.,\n",
       "       1., 1., 1., 1., 1., 1., 1., 1., 1., 1., 1., 1., 1., 1., 1., 1., 1.,\n",
       "       1., 1., 1., 1., 1., 1., 1., 1., 1., 1., 1., 1., 1., 1., 1., 1., 2.,\n",
       "       2., 2., 2., 2., 2., 2., 2., 2., 2., 2., 2., 2., 2., 2., 2., 2., 2.,\n",
       "       2., 2., 3., 2., 2., 2., 2., 2., 2., 2., 2., 2., 2., 2., 2., 3., 2.,\n",
       "       2., 2., 2., 2., 2., 2., 2., 2., 2., 2., 2., 2., 2., 2., 2., 3., 3.,\n",
       "       3., 3., 3., 3., 3., 3., 3., 3., 3., 3., 3., 3., 3., 3., 3., 3., 3.,\n",
       "       3., 3., 3., 3., 3., 3., 3., 3., 3., 3., 3., 3., 3., 3., 2., 3., 3.,\n",
       "       3., 3., 3., 3., 3., 3., 3., 3., 3., 3., 3., 3., 3., 3.])"
      ]
     },
     "execution_count": 19,
     "metadata": {},
     "output_type": "execute_result"
    }
   ],
   "source": [
    "vars=X.to_numpy()\n",
    "y=np.array([])\n",
    "for var in vars:\n",
    "    prob1=mvnorm(var,mv_1,cov1)*p1\n",
    "    prob2=mvnorm(var,mv_2,cov2)*p2\n",
    "    prob3=mvnorm(var,mv_3,cov3)*p3\n",
    "    if prob1==max(prob1,prob2,prob3):\n",
    "        y=np.append(y,1)\n",
    "    elif prob2==max(prob1,prob2,prob3):\n",
    "        y=np.append(y,2)\n",
    "    else:\n",
    "        y=np.append(y,3)\n",
    "y"
   ]
  },
  {
   "cell_type": "markdown",
   "id": "a2aea329-49be-4bcd-9878-30e5af0506a8",
   "metadata": {},
   "source": [
    "### Calculating Training Accuracy"
   ]
  },
  {
   "cell_type": "code",
   "execution_count": 22,
   "id": "22ed27b1-f06c-431f-a48b-68d4bf1415fb",
   "metadata": {},
   "outputs": [
    {
     "data": {
      "text/plain": [
       "98.0"
      ]
     },
     "execution_count": 22,
     "metadata": {},
     "output_type": "execute_result"
    }
   ],
   "source": [
    "accuracy = np.mean(y == Y.to_numpy())\n",
    "accuracy*100"
   ]
  },
  {
   "cell_type": "markdown",
   "id": "a12d98d0-3712-4f6b-8f98-5f4d1d056ebc",
   "metadata": {},
   "source": [
    "## Splitting Train test data"
   ]
  },
  {
   "cell_type": "markdown",
   "id": "35328348-2df5-420b-b584-1b85d6641d47",
   "metadata": {},
   "source": [
    "### 80-20 Split"
   ]
  },
  {
   "cell_type": "code",
   "execution_count": 23,
   "id": "fbe543e8-0fbf-499c-85c2-7220ea72d7f3",
   "metadata": {},
   "outputs": [],
   "source": [
    "#80% train, 20%test\n",
    "X_train, X_test, Y_train, Y_test = train_test_split(X, Y, test_size=0.2,random_state=42)"
   ]
  },
  {
   "cell_type": "markdown",
   "id": "ea8bae45-e7c3-446a-b730-04eee1aa9fe7",
   "metadata": {},
   "source": [
    "#### Calculating parameters for train data"
   ]
  },
  {
   "cell_type": "code",
   "execution_count": 24,
   "id": "767c4772-7431-4e51-8adc-17b561f42e2e",
   "metadata": {},
   "outputs": [
    {
     "data": {
      "text/plain": [
       "array([4.99  , 3.44  , 1.4525, 0.2425])"
      ]
     },
     "execution_count": 24,
     "metadata": {},
     "output_type": "execute_result"
    }
   ],
   "source": [
    "#Calculating class wise Mean Vectors for 80% data\n",
    "mv_1 = np.mean(X_train[Y_train==1],axis=0).to_numpy() # Mean vector for class 1\n",
    "mv_2 = np.mean(X_train[Y_train==2],axis=0).to_numpy() # Mean vector for class 2\n",
    "mv_3 = np.mean(X_train[Y_train==3],axis=0).to_numpy() # Mean vector for class 3\n",
    "mv_1 #view mean vector for class 1"
   ]
  },
  {
   "cell_type": "code",
   "execution_count": 30,
   "id": "6a275d29-5ca1-425b-a491-f9f08e1c173c",
   "metadata": {},
   "outputs": [
    {
     "data": {
      "text/plain": [
       "array([[0.42754386, 0.10114035, 0.31429825, 0.04947368],\n",
       "       [0.10114035, 0.10175439, 0.09280702, 0.06026316],\n",
       "       [0.31429825, 0.09280702, 0.29325236, 0.05210526],\n",
       "       [0.04947368, 0.06026316, 0.05210526, 0.08421053]])"
      ]
     },
     "execution_count": 30,
     "metadata": {},
     "output_type": "execute_result"
    }
   ],
   "source": [
    "#Calculate Class wise Covariance Matrix\n",
    "cov1=X_train[Y_train==1].cov().to_numpy()\n",
    "cov2=X_train[Y_train==2].cov().to_numpy()\n",
    "cov3=X_train[Y_train==3].cov().to_numpy()\n",
    "cov3"
   ]
  },
  {
   "cell_type": "markdown",
   "id": "80c13eff-0126-4676-a145-46a59b663e28",
   "metadata": {},
   "source": [
    "#### Calculating prior probabilities"
   ]
  },
  {
   "cell_type": "code",
   "execution_count": 26,
   "id": "ea6c3380-25ac-47c1-b565-4bdab23ef987",
   "metadata": {},
   "outputs": [
    {
     "data": {
      "text/plain": [
       "0.325"
      ]
     },
     "execution_count": 26,
     "metadata": {},
     "output_type": "execute_result"
    }
   ],
   "source": [
    "p1=(Y_train==1).sum()/Y_train.shape[0]\n",
    "p2=(Y_train==2).sum()/Y_train.shape[0]\n",
    "p3=(Y_train==3).sum()/Y_train.shape[0]\n",
    "p3"
   ]
  },
  {
   "cell_type": "markdown",
   "id": "5ac84eaf-f4b0-4d94-8b46-c84b261afab9",
   "metadata": {},
   "source": [
    "#### Calculating training accuracy"
   ]
  },
  {
   "cell_type": "code",
   "execution_count": 27,
   "id": "ec644949-80f0-447c-a887-47cc501f84b8",
   "metadata": {},
   "outputs": [
    {
     "data": {
      "text/plain": [
       "97.5"
      ]
     },
     "execution_count": 27,
     "metadata": {},
     "output_type": "execute_result"
    }
   ],
   "source": [
    "vars=X_train.to_numpy()\n",
    "y_train=np.array([])\n",
    "for var in vars:\n",
    "    prob1=mvnorm(var,mv_1,cov1)*p1\n",
    "    prob2=mvnorm(var,mv_2,cov2)*p2\n",
    "    prob3=mvnorm(var,mv_3,cov3)*p3\n",
    "    if prob1==max(prob1,prob2,prob3):\n",
    "        y_train=np.append(y_train,1)\n",
    "    elif prob2==max(prob1,prob2,prob3):\n",
    "        y_train=np.append(y_train,2)\n",
    "    else:\n",
    "        y_train=np.append(y_train,3)\n",
    "y_train\n",
    "accuracy=np.mean(y_train==Y_train)\n",
    "accuracy*100"
   ]
  },
  {
   "cell_type": "markdown",
   "id": "44c6bd16-e61d-46d4-92da-e59ac91681d4",
   "metadata": {},
   "source": [
    "#### Using the 20% test data"
   ]
  },
  {
   "cell_type": "code",
   "execution_count": 31,
   "id": "23e82882-4654-4406-8596-f4e2acbf3ed2",
   "metadata": {},
   "outputs": [
    {
     "data": {
      "text/plain": [
       "array([2., 1., 3., 2., 2., 1., 2., 3., 3., 2., 3., 1., 1., 1., 1., 2., 3.,\n",
       "       2., 2., 3., 1., 3., 1., 3., 3., 3., 3., 3., 1., 1.])"
      ]
     },
     "execution_count": 31,
     "metadata": {},
     "output_type": "execute_result"
    }
   ],
   "source": [
    "vars=X_test.to_numpy()\n",
    "y_pred=np.array([])\n",
    "for var in vars:\n",
    "    prob1=mvnorm(var,mv_1,cov1)*p1\n",
    "    prob2=mvnorm(var,mv_2,cov2)*p2\n",
    "    prob3=mvnorm(var,mv_3,cov3)*p3\n",
    "    if prob1==max(prob1,prob2,prob3):\n",
    "        y_pred=np.append(y_pred,1)\n",
    "    elif prob2==max(prob1,prob2,prob3):\n",
    "        y_pred=np.append(y_pred,2)\n",
    "    else:\n",
    "        y_pred=np.append(y_pred,3)\n",
    "y_pred"
   ]
  },
  {
   "cell_type": "markdown",
   "id": "2270dfbb-cbbd-425f-afb3-493d2c28261b",
   "metadata": {},
   "source": [
    "#### Calculating test accuracy"
   ]
  },
  {
   "cell_type": "code",
   "execution_count": 32,
   "id": "8bd3dc0d-72c8-43d6-90c2-145d995ca3ad",
   "metadata": {
    "scrolled": true
   },
   "outputs": [
    {
     "data": {
      "text/plain": [
       "96.66666666666667"
      ]
     },
     "execution_count": 32,
     "metadata": {},
     "output_type": "execute_result"
    }
   ],
   "source": [
    "accuracy=np.mean(y_pred==Y_test)\n",
    "accuracy*100"
   ]
  },
  {
   "cell_type": "markdown",
   "id": "605c1a66-0dd3-4628-831f-207ff7b3fba3",
   "metadata": {},
   "source": [
    "### 70-30 Split"
   ]
  },
  {
   "cell_type": "code",
   "execution_count": 33,
   "id": "1e2dd4b7-d5fe-49d8-b67b-dbfc71947d82",
   "metadata": {},
   "outputs": [],
   "source": [
    "#70% train, 30%test\n",
    "X_train, X_test, Y_train, Y_test = train_test_split(X, Y, test_size=0.3, random_state=42)"
   ]
  },
  {
   "cell_type": "markdown",
   "id": "4652dd9d-3380-4854-bc65-29cf593a3cbd",
   "metadata": {},
   "source": [
    "#### Calculating parameters for train data"
   ]
  },
  {
   "cell_type": "code",
   "execution_count": 34,
   "id": "1c3c03ed-cb88-4b75-8ae9-1d7f4ec92a54",
   "metadata": {},
   "outputs": [
    {
     "data": {
      "text/plain": [
       "array([4.96451613, 3.36129032, 1.46774194, 0.24516129])"
      ]
     },
     "execution_count": 34,
     "metadata": {},
     "output_type": "execute_result"
    }
   ],
   "source": [
    "#Calculating class wise Mean Vectors for 80% data\n",
    "mv_1 = np.mean(X_train[Y_train==1],axis=0).to_numpy() # Mean vector for class 1\n",
    "mv_2 = np.mean(X_train[Y_train==2],axis=0).to_numpy() # Mean vector for class 2\n",
    "mv_3 = np.mean(X_train[Y_train==3],axis=0).to_numpy() # Mean vector for class 3\n",
    "mv_1 #view mean vector for class 1"
   ]
  },
  {
   "cell_type": "code",
   "execution_count": 35,
   "id": "4e32e481-4768-45e1-867f-4f844d383188",
   "metadata": {},
   "outputs": [
    {
     "data": {
      "text/plain": [
       "array([[0.43414414, 0.09777027, 0.31913664, 0.04939189],\n",
       "       [0.09777027, 0.09897898, 0.08758258, 0.06146396],\n",
       "       [0.31913664, 0.08758258, 0.29644144, 0.05224474],\n",
       "       [0.04939189, 0.06146396, 0.05224474, 0.0883033 ]])"
      ]
     },
     "execution_count": 35,
     "metadata": {},
     "output_type": "execute_result"
    }
   ],
   "source": [
    "#Calculate Class wise Covariance Matrix\n",
    "cov1=X_train[Y_train==1].cov().to_numpy()\n",
    "cov2=X_train[Y_train==2].cov().to_numpy()\n",
    "cov3=X_train[Y_train==3].cov().to_numpy()\n",
    "cov3"
   ]
  },
  {
   "cell_type": "markdown",
   "id": "eebbf444-b360-4e26-ab74-501eab8ad877",
   "metadata": {},
   "source": [
    "#### Calculating prior probabilities"
   ]
  },
  {
   "cell_type": "code",
   "execution_count": 36,
   "id": "bec8f33b-3b6e-4ff1-bff5-8eca273c37a5",
   "metadata": {},
   "outputs": [
    {
     "data": {
      "text/plain": [
       "0.3523809523809524"
      ]
     },
     "execution_count": 36,
     "metadata": {},
     "output_type": "execute_result"
    }
   ],
   "source": [
    "p1=(Y_train==1).sum()/Y_train.shape[0]\n",
    "p2=(Y_train==2).sum()/Y_train.shape[0]\n",
    "p3=(Y_train==3).sum()/Y_train.shape[0]\n",
    "p3"
   ]
  },
  {
   "cell_type": "markdown",
   "id": "0a7b4460-5d65-4795-aa1d-ba956b5290c4",
   "metadata": {},
   "source": [
    "#### Calculating training accuracy"
   ]
  },
  {
   "cell_type": "code",
   "execution_count": 37,
   "id": "95b307ac-1d61-45cb-9da5-31758959489e",
   "metadata": {},
   "outputs": [
    {
     "data": {
      "text/plain": [
       "98.09523809523809"
      ]
     },
     "execution_count": 37,
     "metadata": {},
     "output_type": "execute_result"
    }
   ],
   "source": [
    "vars=X_train.to_numpy()\n",
    "y_train=np.array([])\n",
    "for var in vars:\n",
    "    prob1=mvnorm(var,mv_1,cov1)*p1\n",
    "    prob2=mvnorm(var,mv_2,cov2)*p2\n",
    "    prob3=mvnorm(var,mv_3,cov3)*p3\n",
    "    if prob1==max(prob1,prob2,prob3):\n",
    "        y_train=np.append(y_train,1)\n",
    "    elif prob2==max(prob1,prob2,prob3):\n",
    "        y_train=np.append(y_train,2)\n",
    "    else:\n",
    "        y_train=np.append(y_train,3)\n",
    "y_train\n",
    "accuracy=np.mean(y_train==Y_train)\n",
    "accuracy*100"
   ]
  },
  {
   "cell_type": "markdown",
   "id": "996923ba-26bc-4165-b2c8-5cb971b3e189",
   "metadata": {},
   "source": [
    "#### Using the 30% test data"
   ]
  },
  {
   "cell_type": "code",
   "execution_count": 38,
   "id": "16442046-30a2-4438-b896-372c5cee434f",
   "metadata": {},
   "outputs": [
    {
     "data": {
      "text/plain": [
       "array([2., 1., 3., 2., 2., 1., 2., 3., 2., 2., 3., 1., 1., 1., 1., 2., 3.,\n",
       "       2., 2., 3., 1., 3., 1., 3., 3., 3., 3., 3., 1., 1., 1., 1., 2., 1.,\n",
       "       1., 3., 2., 1., 1., 1., 3., 2., 2., 1., 1.])"
      ]
     },
     "execution_count": 38,
     "metadata": {},
     "output_type": "execute_result"
    }
   ],
   "source": [
    "vars=X_test.to_numpy()\n",
    "y_pred=np.array([])\n",
    "for var in vars:\n",
    "    prob1=mvnorm(var,mv_1,cov1)*p1\n",
    "    prob2=mvnorm(var,mv_2,cov2)*p2\n",
    "    prob3=mvnorm(var,mv_3,cov3)*p3\n",
    "    if prob1==max(prob1,prob2,prob3):\n",
    "        y_pred=np.append(y_pred,1)\n",
    "    elif prob2==max(prob1,prob2,prob3):\n",
    "        y_pred=np.append(y_pred,2)\n",
    "    else:\n",
    "        y_pred=np.append(y_pred,3)\n",
    "y_pred"
   ]
  },
  {
   "cell_type": "markdown",
   "id": "011871d8-6f59-44c5-8171-1b29e28b3d2a",
   "metadata": {},
   "source": [
    "#### Test Accuracy"
   ]
  },
  {
   "cell_type": "code",
   "execution_count": 40,
   "id": "23b9674f-9a0f-47a9-96ff-d638b4c13777",
   "metadata": {
    "scrolled": true
   },
   "outputs": [
    {
     "data": {
      "text/plain": [
       "100.0"
      ]
     },
     "execution_count": 40,
     "metadata": {},
     "output_type": "execute_result"
    }
   ],
   "source": [
    "accuracy=np.mean(y_pred==Y_test)\n",
    "accuracy*100"
   ]
  },
  {
   "cell_type": "markdown",
   "id": "1ed340aa-885d-4a8e-8885-3678c974158b",
   "metadata": {},
   "source": [
    "### 60-40 Split"
   ]
  },
  {
   "cell_type": "code",
   "execution_count": 41,
   "id": "e51f14cb-73d2-4781-8027-c8f87efc3a38",
   "metadata": {},
   "outputs": [],
   "source": [
    "#60% train, 40%test\n",
    "X_train, X_test, Y_train, Y_test = train_test_split(X, Y, test_size=0.4, random_state=42)"
   ]
  },
  {
   "cell_type": "markdown",
   "id": "a612ccb6-f3c7-465c-804c-a9b9ea3c5274",
   "metadata": {},
   "source": [
    "#### Calculating parameters for train data"
   ]
  },
  {
   "cell_type": "code",
   "execution_count": 42,
   "id": "365b9ef2-709e-45f4-99b6-91f27ed4da3f",
   "metadata": {},
   "outputs": [
    {
     "data": {
      "text/plain": [
       "array([4.94444444, 3.33333333, 1.46296296, 0.24074074])"
      ]
     },
     "execution_count": 42,
     "metadata": {},
     "output_type": "execute_result"
    }
   ],
   "source": [
    "#Calculating class wise Mean Vectors for 60% data\n",
    "mv_1 = np.mean(X_train[Y_train==1],axis=0).to_numpy() # Mean vector for class 1\n",
    "mv_2 = np.mean(X_train[Y_train==2],axis=0).to_numpy() # Mean vector for class 2\n",
    "mv_3 = np.mean(X_train[Y_train==3],axis=0).to_numpy() # Mean vector for class 3\n",
    "mv_1 #view mean vector for class 1"
   ]
  },
  {
   "cell_type": "code",
   "execution_count": 43,
   "id": "5fe51099-5812-4477-b515-34cf8b35ba2d",
   "metadata": {},
   "outputs": [
    {
     "data": {
      "text/plain": [
       "array([[0.40523185, 0.10540323, 0.27185484, 0.03918347],\n",
       "       [0.10540323, 0.1       , 0.09387097, 0.05927419],\n",
       "       [0.27185484, 0.09387097, 0.24387097, 0.04153226],\n",
       "       [0.03918347, 0.05927419, 0.04153226, 0.08474798]])"
      ]
     },
     "execution_count": 43,
     "metadata": {},
     "output_type": "execute_result"
    }
   ],
   "source": [
    "#Calculate Covariance Matrix\n",
    "#Calculate Class wise Covariance Matrix\n",
    "cov1=X_train[Y_train==1].cov().to_numpy()\n",
    "cov2=X_train[Y_train==2].cov().to_numpy()\n",
    "cov3=X_train[Y_train==3].cov().to_numpy()\n",
    "cov3"
   ]
  },
  {
   "cell_type": "markdown",
   "id": "0f5b90f8-fcbc-475f-b033-7ac25fff158f",
   "metadata": {},
   "source": [
    "#### Calculating prior probabilities"
   ]
  },
  {
   "cell_type": "code",
   "execution_count": 44,
   "id": "cae00683-9363-435e-a395-ca1aeaf84ccc",
   "metadata": {},
   "outputs": [
    {
     "data": {
      "text/plain": [
       "0.35555555555555557"
      ]
     },
     "execution_count": 44,
     "metadata": {},
     "output_type": "execute_result"
    }
   ],
   "source": [
    "p1=(Y_train==1).sum()/Y_train.shape[0]\n",
    "p2=(Y_train==2).sum()/Y_train.shape[0]\n",
    "p3=(Y_train==3).sum()/Y_train.shape[0]\n",
    "p3"
   ]
  },
  {
   "cell_type": "markdown",
   "id": "3dca96d6-412c-43f1-904e-61c150c3b7c3",
   "metadata": {},
   "source": [
    "#### Calculating training accuracy"
   ]
  },
  {
   "cell_type": "code",
   "execution_count": 45,
   "id": "f29465fb-f21e-4d6a-bab9-e12ff137711e",
   "metadata": {},
   "outputs": [
    {
     "data": {
      "text/plain": [
       "98.88888888888889"
      ]
     },
     "execution_count": 45,
     "metadata": {},
     "output_type": "execute_result"
    }
   ],
   "source": [
    "vars=X_train.to_numpy()\n",
    "y_train=np.array([])\n",
    "for var in vars:\n",
    "    prob1=mvnorm(var,mv_1,cov1)*p1\n",
    "    prob2=mvnorm(var,mv_2,cov2)*p2\n",
    "    prob3=mvnorm(var,mv_3,cov3)*p3\n",
    "    if prob1==max(prob1,prob2,prob3):\n",
    "        y_train=np.append(y_train,1)\n",
    "    elif prob2==max(prob1,prob2,prob3):\n",
    "        y_train=np.append(y_train,2)\n",
    "    else:\n",
    "        y_train=np.append(y_train,3)\n",
    "y_train\n",
    "accuracy=np.mean(y_train==Y_train)\n",
    "accuracy*100"
   ]
  },
  {
   "cell_type": "markdown",
   "id": "65d42d48-67e7-42c0-8862-a1a3764d4adc",
   "metadata": {},
   "source": [
    "#### Using the 40% test data"
   ]
  },
  {
   "cell_type": "code",
   "execution_count": 46,
   "id": "02fea3c4-49fe-460f-bee8-45b3d133e0d0",
   "metadata": {},
   "outputs": [
    {
     "data": {
      "text/plain": [
       "array([2., 1., 3., 2., 2., 1., 2., 3., 2., 2., 3., 1., 1., 1., 1., 2., 3.,\n",
       "       2., 2., 3., 1., 3., 1., 3., 3., 3., 3., 3., 1., 1., 1., 1., 2., 1.,\n",
       "       1., 3., 2., 1., 1., 1., 3., 2., 2., 1., 1., 2., 2., 3., 2., 3., 2.,\n",
       "       3., 2., 1., 3., 2., 1., 1., 1., 2.])"
      ]
     },
     "execution_count": 46,
     "metadata": {},
     "output_type": "execute_result"
    }
   ],
   "source": [
    "vars=X_test.to_numpy()\n",
    "y_pred=np.array([])\n",
    "for var in vars:\n",
    "    prob1=mvnorm(var,mv_1,cov1)*p1\n",
    "    prob2=mvnorm(var,mv_2,cov2)*p2\n",
    "    prob3=mvnorm(var,mv_3,cov3)*p3\n",
    "    if prob1==max(prob1,prob2,prob3):\n",
    "        y_pred=np.append(y_pred,1)\n",
    "    elif prob2==max(prob1,prob2,prob3):\n",
    "        y_pred=np.append(y_pred,2)\n",
    "    else:\n",
    "        y_pred=np.append(y_pred,3)\n",
    "y_pred"
   ]
  },
  {
   "cell_type": "markdown",
   "id": "2fdc2c05-9cfd-45c4-98c2-2b2bab36bca4",
   "metadata": {},
   "source": [
    "#### Calculating test accuracy"
   ]
  },
  {
   "cell_type": "code",
   "execution_count": 47,
   "id": "21bcaa6a-9072-4848-8c34-20b80590bac5",
   "metadata": {
    "scrolled": true
   },
   "outputs": [
    {
     "data": {
      "text/plain": [
       "98.33333333333333"
      ]
     },
     "execution_count": 47,
     "metadata": {},
     "output_type": "execute_result"
    }
   ],
   "source": [
    "accuracy=np.mean(y_pred==Y_test)\n",
    "accuracy*100"
   ]
  },
  {
   "cell_type": "markdown",
   "id": "4b23dc2a-bfa1-482b-8e8b-718b20cbd86b",
   "metadata": {},
   "source": [
    "### 50-50 Split"
   ]
  },
  {
   "cell_type": "code",
   "execution_count": 48,
   "id": "a68044fc-1682-4890-afa0-d72d58e60224",
   "metadata": {},
   "outputs": [],
   "source": [
    "#50% train, 50%test\n",
    "X_train, X_test, Y_train, Y_test = train_test_split(X, Y, test_size=0.5, random_state=42)"
   ]
  },
  {
   "cell_type": "markdown",
   "id": "47b561a2-12cc-4227-a897-3dadf1a2f63e",
   "metadata": {},
   "source": [
    "#### Calculating parameters for train data"
   ]
  },
  {
   "cell_type": "code",
   "execution_count": 49,
   "id": "636e03d7-da12-42ef-b472-53b5cf9f2916",
   "metadata": {},
   "outputs": [
    {
     "data": {
      "text/plain": [
       "array([4.92380952, 3.30952381, 1.42857143, 0.23809524])"
      ]
     },
     "execution_count": 49,
     "metadata": {},
     "output_type": "execute_result"
    }
   ],
   "source": [
    "#Calculating class wise Mean Vectors for 50% data\n",
    "mv_1 = np.mean(X_train[Y_train==1],axis=0).to_numpy() # Mean vector for class 1\n",
    "mv_2 = np.mean(X_train[Y_train==2],axis=0).to_numpy() # Mean vector for class 2\n",
    "mv_3 = np.mean(X_train[Y_train==3],axis=0).to_numpy() # Mean vector for class 3\n",
    "mv_1 #view mean vector for class 1"
   ]
  },
  {
   "cell_type": "code",
   "execution_count": 50,
   "id": "6d4ad6eb-4d92-4858-9b9d-6921c8bed378",
   "metadata": {},
   "outputs": [
    {
     "data": {
      "text/plain": [
       "array([[0.37310541, 0.06381766, 0.22485755, 0.02880342],\n",
       "       [0.06381766, 0.07849003, 0.05475783, 0.06119658],\n",
       "       [0.22485755, 0.05475783, 0.18763533, 0.0282906 ],\n",
       "       [0.02880342, 0.06119658, 0.0282906 , 0.09564103]])"
      ]
     },
     "execution_count": 50,
     "metadata": {},
     "output_type": "execute_result"
    }
   ],
   "source": [
    "#Calculate Covariance Matrix\n",
    "#Calculate Class wise Covariance Matrix\n",
    "cov1=X_train[Y_train==1].cov().to_numpy()\n",
    "cov2=X_train[Y_train==2].cov().to_numpy()\n",
    "cov3=X_train[Y_train==3].cov().to_numpy()\n",
    "cov3"
   ]
  },
  {
   "cell_type": "markdown",
   "id": "6b922e92-2334-4636-a0df-7e9fbe3eb193",
   "metadata": {},
   "source": [
    "#### Calculating prior probabilities"
   ]
  },
  {
   "cell_type": "code",
   "execution_count": 51,
   "id": "2409c90b-de08-48ed-b586-d4e123dcff43",
   "metadata": {},
   "outputs": [
    {
     "data": {
      "text/plain": [
       "0.36"
      ]
     },
     "execution_count": 51,
     "metadata": {},
     "output_type": "execute_result"
    }
   ],
   "source": [
    "p1=(Y_train==1).sum()/Y_train.shape[0]\n",
    "p2=(Y_train==2).sum()/Y_train.shape[0]\n",
    "p3=(Y_train==3).sum()/Y_train.shape[0]\n",
    "p3"
   ]
  },
  {
   "cell_type": "markdown",
   "id": "599f79ec-36b8-4fa1-8d15-c70b1725e0b3",
   "metadata": {},
   "source": [
    "#### Using the 50% test data"
   ]
  },
  {
   "cell_type": "code",
   "execution_count": 52,
   "id": "95551b9d-6990-44f9-9509-15a3055c5649",
   "metadata": {},
   "outputs": [
    {
     "data": {
      "text/plain": [
       "array([2., 1., 3., 2., 2., 1., 2., 3., 2., 2., 3., 1., 1., 1., 1., 2., 3.,\n",
       "       2., 2., 3., 1., 3., 1., 3., 2., 3., 3., 3., 1., 1., 1., 1., 2., 1.,\n",
       "       1., 3., 2., 1., 1., 1., 3., 2., 2., 1., 1., 2., 2., 3., 2., 3., 2.,\n",
       "       3., 2., 1., 3., 2., 1., 1., 1., 2., 3., 1., 1., 1., 2., 1., 2., 3.,\n",
       "       1., 2., 3., 1., 3., 3., 2.])"
      ]
     },
     "execution_count": 52,
     "metadata": {},
     "output_type": "execute_result"
    }
   ],
   "source": [
    "vars=X_test.to_numpy()\n",
    "y_pred=np.array([])\n",
    "for var in vars:\n",
    "    prob1=mvnorm(var,mv_1,cov1)*p1\n",
    "    prob2=mvnorm(var,mv_2,cov2)*p2\n",
    "    prob3=mvnorm(var,mv_3,cov3)*p3\n",
    "    if prob1==max(prob1,prob2,prob3):\n",
    "        y_pred=np.append(y_pred,1)\n",
    "    elif prob2==max(prob1,prob2,prob3):\n",
    "        y_pred=np.append(y_pred,2)\n",
    "    else:\n",
    "        y_pred=np.append(y_pred,3)\n",
    "y_pred"
   ]
  },
  {
   "cell_type": "markdown",
   "id": "8bf57c76-cdc0-4dbd-9136-9fe1eda97ae6",
   "metadata": {},
   "source": [
    "#### Calculating test accuracy"
   ]
  },
  {
   "cell_type": "code",
   "execution_count": 53,
   "id": "2ba7bbed-351a-416d-b277-848fb5571b1b",
   "metadata": {
    "scrolled": true
   },
   "outputs": [
    {
     "data": {
      "text/plain": [
       "97.33333333333334"
      ]
     },
     "execution_count": 53,
     "metadata": {},
     "output_type": "execute_result"
    }
   ],
   "source": [
    "accuracy=np.mean(y_pred==Y_test)\n",
    "accuracy*100"
   ]
  },
  {
   "cell_type": "code",
   "execution_count": null,
   "id": "922d7eb1-53c0-46f4-9255-e7ce11c4702a",
   "metadata": {},
   "outputs": [],
   "source": []
  }
 ],
 "metadata": {
  "kernelspec": {
   "display_name": "Python 3 (ipykernel)",
   "language": "python",
   "name": "python3"
  },
  "language_info": {
   "codemirror_mode": {
    "name": "ipython",
    "version": 3
   },
   "file_extension": ".py",
   "mimetype": "text/x-python",
   "name": "python",
   "nbconvert_exporter": "python",
   "pygments_lexer": "ipython3",
   "version": "3.12.4"
  }
 },
 "nbformat": 4,
 "nbformat_minor": 5
}
